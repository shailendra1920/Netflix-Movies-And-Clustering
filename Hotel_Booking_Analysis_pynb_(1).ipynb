{
  "nbformat": 4,
  "nbformat_minor": 0,
  "metadata": {
    "colab": {
      "private_outputs": true,
      "provenance": [],
      "collapsed_sections": [
        "PH-0ReGfmX4f",
        "mDgbUHAGgjLW",
        "O_i_v8NEhb9l",
        "HhfV-JJviCcP",
        "Y3lxredqlCYt",
        "3RnN4peoiCZX",
        "x71ZqKXriCWQ",
        "7hBIi_osiCS2",
        "JlHwYmJAmNHm",
        "35m5QtbWiB9F",
        "PoPl-ycgm1ru",
        "H0kj-8xxnORC",
        "nA9Y7ga8ng1Z",
        "PBTbrJXOngz2",
        "u3PMJOP6ngxN",
        "dauF4eBmngu3",
        "bKJF3rekwFvQ",
        "MSa1f5Uengrz",
        "GF8Ens_Soomf",
        "0wOQAZs5pc--",
        "K5QZ13OEpz2H",
        "lQ7QKXXCp7Bj",
        "448CDAPjqfQr",
        "KSlN3yHqYklG",
        "t6dVpIINYklI",
        "ijmpgYnKYklI",
        "-JiQyfWJYklI",
        "EM7whBJCYoAo",
        "fge-S5ZAYoAp",
        "85gYPyotYoAp",
        "RoGjAbkUYoAp",
        "4Of9eVA-YrdM",
        "iky9q4vBYrdO",
        "F6T5p64dYrdO",
        "y-Ehk30pYrdP",
        "bamQiAODYuh1",
        "QHF8YVU7Yuh3",
        "GwzvFGzlYuh3",
        "qYpmQ266Yuh3",
        "OH-pJp9IphqM",
        "bbFf2-_FphqN",
        "_ouA3fa0phqN",
        "Seke61FWphqN",
        "PIIx-8_IphqN",
        "t27r6nlMphqO",
        "r2jJGEOYphqO",
        "b0JNsNcRphqO",
        "BZR9WyysphqO",
        "jj7wYXLtphqO",
        "eZrbJ2SmphqO",
        "rFu4xreNphqO",
        "YJ55k-q6phqO",
        "gCFgpxoyphqP",
        "OVtJsKN_phqQ",
        "lssrdh5qphqQ",
        "U2RJ9gkRphqQ",
        "1M8mcRywphqQ",
        "tgIPom80phqQ",
        "JMzcOPDDphqR",
        "x-EpHcCOp1ci",
        "X_VqEhTip1ck",
        "8zGJKyg5p1ck",
        "PVzmfK_Ep1ck",
        "n3dbpmDWp1ck",
        "ylSl6qgtp1ck",
        "ZWILFDl5p1ck",
        "M7G43BXep1ck",
        "Ag9LCva-p1cl",
        "E6MkPsBcp1cl",
        "2cELzS2fp1cl",
        "3MPXvC8up1cl",
        "NC_X3p0fY2L0",
        "UV0SzAkaZNRQ",
        "YPEH6qLeZNRQ",
        "q29F0dvdveiT",
        "EXh0U9oCveiU",
        "22aHeOlLveiV",
        "JcMwzZxoAimU",
        "8G2x9gOozGDZ",
        "gCX9965dhzqZ",
        "gIfDvo9L0UH2"
      ]
    },
    "kernelspec": {
      "name": "python3",
      "display_name": "Python 3"
    },
    "language_info": {
      "name": "python"
    }
  },
  "cells": [
    {
      "cell_type": "markdown",
      "source": [
        "# **Project Name**    - Hotel Booking Analysis"
      ],
      "metadata": {
        "id": "vncDsAP0Gaoa"
      }
    },
    {
      "cell_type": "markdown",
      "source": [
        "##### **Project Type**    - EDA\n",
        "##### **Contribution**    - INDIVIDUAL"
      ],
      "metadata": {
        "id": "beRrZCGUAJYm"
      }
    },
    {
      "cell_type": "markdown",
      "source": [
        "# **Project Summary -**"
      ],
      "metadata": {
        "id": "FJNUwmbgGyua"
      }
    },
    {
      "cell_type": "markdown",
      "source": [
        "\n",
        "This data set contains booking information for a city hotel and a resort hotel, and includes information such as when the booking was made, length of stay, the number of adults, children, and/or babies, and the number of available parking spaces, among other things. All personally identifying information has been removed from the data, for the sake of privacy.\n",
        "I strated the analysis with with checking how many null rows I have in data, as book-keeping errors and missing values gives poor result in analysis. After taking care of null values, I dropped the duplicated.I have use missing value bargraph to compare and show that no we have not left with missing values.\n",
        "\n",
        "I made a number of graph to understand:\n",
        "\n",
        "1.which type of hotel are most preferred by the customers.\n",
        "\n",
        "2.Monthly analysis of bookings data where customer arrived at hotels.\n",
        "\n",
        "3.Pie chart for Cancellation rate of bookings\n",
        "\n",
        "4.Country wise booking customers data.\n",
        "\n",
        "5.Frequency of days costumer stays in hotel.\n",
        "\n",
        "6.Which type of hotels are having most booking in a weekend nights?\n",
        "\n",
        "7.Most preferred distribution channel by customers.\n",
        "\n",
        "8.Market segment comparison chart w.r.t Hotel type.\n",
        "\n",
        "9.Comparison of year wise customers arrivals data.\n",
        "\n",
        "10.Bookings cancelled as per ADR.\n",
        "\n",
        "11.visualization for booking cancellation vs deposit type.\n",
        "\n",
        "12.ADR (Average daily rate) and Distribution channels comparison, w.r.t. year.(multivariate analysis).\n",
        "\n",
        "13.Line graph for Monthly ADR w.r.t Hotel type.(multivariate analysis).\n",
        "\n",
        "14.correlation heatmap.\n",
        "\n",
        "At the end we concluded the analysis with\n",
        "Analysis summary."
      ],
      "metadata": {
        "id": "F6v_1wHtG2nS"
      }
    },
    {
      "cell_type": "markdown",
      "source": [
        "# **GitHub Link -** - https://github.com/shailendra1920?tab=repositories"
      ],
      "metadata": {
        "id": "w6K7xa23Elo4"
      }
    },
    {
      "cell_type": "markdown",
      "source": [
        "# **Problem Statement**\n"
      ],
      "metadata": {
        "id": "yQaldy8SH6Dl"
      }
    },
    {
      "cell_type": "markdown",
      "source": [
        "**Have you ever wondered when the best time of year to book a hotel room is? Or the optimal length of stay in order to get the best daily rate? What if you wanted to predict whether or not a hotel was likely to receive a disproportionately high number of special requests? This hotel booking dataset can help you explore those questions! This data set contains booking information for a city hotel and a resort hotel, and includes information such as when the booking was made, length of stay, the number of adults, children, and/or babies, and the number of available parking spaces, among other things.Explore and analyze the data to discover important factors that govern the bookings.**"
      ],
      "metadata": {
        "id": "DpeJGUA3kjGy"
      }
    },
    {
      "cell_type": "markdown",
      "source": [
        "#### **Define Your Business Objective?**"
      ],
      "metadata": {
        "id": "PH-0ReGfmX4f"
      }
    },
    {
      "cell_type": "markdown",
      "source": [
        "Answer Here."
      ],
      "metadata": {
        "id": "PhDvGCAqmjP1"
      }
    },
    {
      "cell_type": "markdown",
      "source": [
        "# **General Guidelines** : -  "
      ],
      "metadata": {
        "id": "mDgbUHAGgjLW"
      }
    },
    {
      "cell_type": "markdown",
      "source": [
        "1.   Well-structured, formatted, and commented code is required.\n",
        "2.   Exception Handling, Production Grade Code & Deployment Ready Code will be a plus. Those students will be awarded some additional credits.\n",
        "     \n",
        "     The additional credits will have advantages over other students during Star Student selection.\n",
        "       \n",
        "             [ Note: - Deployment Ready Code is defined as, the whole .ipynb notebook should be executable in one go\n",
        "                       without a single error logged. ]\n",
        "\n",
        "3.   Each and every logic should have proper comments.\n",
        "4. You may add as many number of charts you want. Make Sure for each and every chart the following format should be answered.\n",
        "        \n",
        "\n",
        "```\n",
        "# Chart visualization code\n",
        "```\n",
        "            \n",
        "\n",
        "*   Why did you pick the specific chart?\n",
        "*   What is/are the insight(s) found from the chart?\n",
        "* Will the gained insights help creating a positive business impact?\n",
        "Are there any insights that lead to negative growth? Justify with specific reason.\n",
        "\n",
        "5. You have to create at least 20 logical & meaningful charts having important insights.\n",
        "\n",
        "\n",
        "[ Hints : - Do the Vizualization in  a structured way while following \"UBM\" Rule.\n",
        "\n",
        "U - Univariate Analysis,\n",
        "\n",
        "B - Bivariate Analysis (Numerical - Categorical, Numerical - Numerical, Categorical - Categorical)\n",
        "\n",
        "M - Multivariate Analysis\n",
        " ]\n",
        "\n",
        "\n",
        "\n"
      ],
      "metadata": {
        "id": "ZrxVaUj-hHfC"
      }
    },
    {
      "cell_type": "markdown",
      "source": [
        "# ***Let's Begin !***"
      ],
      "metadata": {
        "id": "O_i_v8NEhb9l"
      }
    },
    {
      "cell_type": "markdown",
      "source": [
        "## ***1. Know Your Data***"
      ],
      "metadata": {
        "id": "HhfV-JJviCcP"
      }
    },
    {
      "cell_type": "markdown",
      "source": [
        "### Import Libraries"
      ],
      "metadata": {
        "id": "Y3lxredqlCYt"
      }
    },
    {
      "cell_type": "code",
      "source": [
        "# Import Libraries #\n",
        "\n",
        "import pandas as pd\n",
        "import numpy as np\n",
        "import matplotlib\n",
        "import matplotlib.pyplot as plt\n",
        "import seaborn as sns\n",
        "import missingno as msno\n",
        "%matplotlib inline\n",
        "import datetime"
      ],
      "metadata": {
        "id": "M8Vqi-pPk-HR"
      },
      "execution_count": null,
      "outputs": []
    },
    {
      "cell_type": "markdown",
      "source": [
        "### Dataset Loading"
      ],
      "metadata": {
        "id": "3RnN4peoiCZX"
      }
    },
    {
      "cell_type": "code",
      "source": [
        "\n",
        "# Load Dataset\n",
        "from google.colab import drive\n",
        "drive.mount('/content/drive')"
      ],
      "metadata": {
        "id": "bzid-bRtHNkt"
      },
      "execution_count": null,
      "outputs": []
    },
    {
      "cell_type": "markdown",
      "source": [
        "### Dataset First View"
      ],
      "metadata": {
        "id": "x71ZqKXriCWQ"
      }
    },
    {
      "cell_type": "code",
      "source": [
        "# Dataset First Look\n",
        "df=pd.read_csv('/content/drive/MyDrive/Colab Notebooks/Projects/EDA Capstone hotel analysis/hotel bookings data files/Copy of Hotel Bookings.csv')\n",
        "df.head(10)"
      ],
      "metadata": {
        "id": "LWNFOSvLl09H"
      },
      "execution_count": null,
      "outputs": []
    },
    {
      "cell_type": "markdown",
      "source": [
        "### Dataset Rows & Columns count"
      ],
      "metadata": {
        "id": "7hBIi_osiCS2"
      }
    },
    {
      "cell_type": "code",
      "source": [
        "# Dataset Rows & Columns count\n",
        "df.shape"
      ],
      "metadata": {
        "id": "Kllu7SJgmLij"
      },
      "execution_count": null,
      "outputs": []
    },
    {
      "cell_type": "markdown",
      "source": [
        "### Dataset Information"
      ],
      "metadata": {
        "id": "JlHwYmJAmNHm"
      }
    },
    {
      "cell_type": "code",
      "source": [
        "# Dataset Info\n",
        "df.info()"
      ],
      "metadata": {
        "id": "e9hRXRi6meOf"
      },
      "execution_count": null,
      "outputs": []
    },
    {
      "cell_type": "markdown",
      "source": [
        "\n",
        "Note: There seems to be null data in:\n",
        "Country, Agent, company & Children.\n",
        "Now further finding missing values and null value counts"
      ],
      "metadata": {
        "id": "noGRkriuXUHC"
      }
    },
    {
      "cell_type": "markdown",
      "source": [
        "#### Duplicate Values"
      ],
      "metadata": {
        "id": "35m5QtbWiB9F"
      }
    },
    {
      "cell_type": "code",
      "source": [
        "# Dataset Duplicate Value Count\n",
        "df.duplicated().value_counts()"
      ],
      "metadata": {
        "id": "1sLdpKYkmox0"
      },
      "execution_count": null,
      "outputs": []
    },
    {
      "cell_type": "markdown",
      "source": [
        "#### Missing Values/Null Values"
      ],
      "metadata": {
        "id": "PoPl-ycgm1ru"
      }
    },
    {
      "cell_type": "code",
      "source": [
        "# Missing Values/Null Values Count\n",
        "df.isnull().sum()"
      ],
      "metadata": {
        "id": "GgHWkxvamxVg"
      },
      "execution_count": null,
      "outputs": []
    },
    {
      "cell_type": "code",
      "source": [
        "# Visualizing the missing values\n",
        "msno.bar(df)\n",
        "msno.heatmap(df)"
      ],
      "metadata": {
        "id": "7SpkzdYWi6Le"
      },
      "execution_count": null,
      "outputs": []
    },
    {
      "cell_type": "markdown",
      "source": [
        "Here we can see there are null values and duplicate values in the columns from the above data describe d.we need to deal with this."
      ],
      "metadata": {
        "id": "n-6JzSdPcyS4"
      }
    },
    {
      "cell_type": "markdown",
      "source": [
        "### What did you know about your dataset?"
      ],
      "metadata": {
        "id": "H0kj-8xxnORC"
      }
    },
    {
      "cell_type": "markdown",
      "source": [
        "We have 119390 rows and 32 columns to analyse the data and from the data we have vizualized the bar graphs for missing values along with heatmap for the same."
      ],
      "metadata": {
        "id": "gfoNAAC-nUe_"
      }
    },
    {
      "cell_type": "markdown",
      "source": [
        "## ***2. Understanding Your Variables***"
      ],
      "metadata": {
        "id": "nA9Y7ga8ng1Z"
      }
    },
    {
      "cell_type": "code",
      "source": [
        "# Dataset Columns\n",
        "df.columns"
      ],
      "metadata": {
        "id": "j7xfkqrt5Ag5"
      },
      "execution_count": null,
      "outputs": []
    },
    {
      "cell_type": "code",
      "source": [
        "# Dataset Describe\n",
        "df.describe()"
      ],
      "metadata": {
        "id": "DnOaZdaE5Q5t"
      },
      "execution_count": null,
      "outputs": []
    },
    {
      "cell_type": "markdown",
      "source": [
        "### Variables Description"
      ],
      "metadata": {
        "id": "PBTbrJXOngz2"
      }
    },
    {
      "cell_type": "markdown",
      "source": [
        "\n",
        "hotel : Resort Hotel / City Hotel\n",
        "\n",
        "is_canceled:if the booking was canceled- 1 / not - 0\n",
        "\n",
        "lead_time : No of days between the entering date of the booking into the PMS and the arrival date.\n",
        "\n",
        "arrival_date_year : Year of arrival date.\n",
        "\n",
        "arrival_date_month : Month of arrival date.\n",
        "\n",
        "arrival_date_week_number : Week no of year for arrival date.\n",
        "\n",
        "arrival_date_day_of_month : Day of arrival date.\n",
        "\n",
        "stays_in_weekend_nights : No of weekend night.\n",
        "\n",
        "stays_in_weekend_nights : No of weekend nights (Saturday / Sunday) the guest stayed / booked to stay at the hotel.\n",
        "\n",
        "stays_in_week_nights : No of week nights (Monday to Friday) the guest stayed / booked to stay at the hotel.\n",
        "\n",
        "adults : No of adults.\n",
        "\n",
        "children : No of children.\n",
        "\n",
        "babies : No of babies.\n",
        "\n",
        "meal : Type of meal booked.\n",
        "country : Country of origin. market_segment : Market segment designation. In categories, “TA” - “Travel Agents” and “TO” - “Tour Operators”.\n",
        "\n",
        "distribution_channel : Booking distribution channel. “TA” - “Travel Agents” and “TO” - “Tour Operators”.\n",
        "\n",
        "is_repeated_guest : tells whether the booking name was repeated guest -1 / not- 0.\n",
        "\n",
        "previous_cancellations : No of previous bookings that were cancelled by customer prior to the current booking.\n",
        "\n",
        "previous_bookings_not_canceled : No of previous bookings not cancelled by customer prior to the current booking.\n",
        "\n",
        "reserved_room_type : Code of room type reserved.\n",
        "\n",
        "assigned_room_type : Code for the type of room assigned.\n",
        "\n",
        "booking_changes : No of changes made between booking till moment of check-in or cancellation.\n",
        "\n",
        "deposit_type: Tells customer made a deposit to guarantee the booking.\n",
        "\n",
        "agent : ID of the travel agency that made the booking company : ID of the company that made the booking.\n",
        "\n",
        "days_in_waiting_list : No of days the booking was in the waiting list before it got confirmed to customer.\n",
        "\n",
        "customer_type : Type of customer.\n",
        "\n",
        "adr : Average Daily Rate = sum of all lodging transactions/total number of staying nights.\n",
        "\n",
        "required_car_parking_spaces : No of car parking spaces required.\n",
        "\n",
        "total_of_special_requests : No of special requests made by customer reservation_status : Reservation last status, assuming the below categories.\n",
        "\n",
        "Canceled – customer canceled the booking.\n",
        "\n",
        "Check-Out – customer has checked in and departed as well.\n",
        "\n",
        "No-Show – customer did not check-in and did inform the hotel as well.\n",
        "\n",
        "reservation_status_date : Date at which the last status was set. Can be combined with Reservation Status to get booking canceled or customer checked-out."
      ],
      "metadata": {
        "id": "Klj7klXBkNg9"
      }
    },
    {
      "cell_type": "markdown",
      "source": [
        "### Check Unique Values for each variable."
      ],
      "metadata": {
        "id": "u3PMJOP6ngxN"
      }
    },
    {
      "cell_type": "code",
      "source": [
        "# Check Unique Values for each variable.\n",
        "df.nunique()"
      ],
      "metadata": {
        "id": "zms12Yq5n-jE"
      },
      "execution_count": null,
      "outputs": []
    },
    {
      "cell_type": "markdown",
      "source": [
        "## 3. ***Data Wrangling***"
      ],
      "metadata": {
        "id": "dauF4eBmngu3"
      }
    },
    {
      "cell_type": "markdown",
      "source": [
        "### Data Wrangling Code"
      ],
      "metadata": {
        "id": "bKJF3rekwFvQ"
      }
    },
    {
      "cell_type": "markdown",
      "source": [
        "From above data we found that we have null values, duplicated values, missing values, inorder to deal with it we will\n",
        "\n",
        "1) Drop duplicated values\n",
        "\n",
        "2) replace all missing,null values."
      ],
      "metadata": {
        "id": "su1WN_husYr5"
      }
    },
    {
      "cell_type": "code",
      "source": [
        "# Write your code to make your dataset analysis ready\n",
        "df[\"children\"].fillna(0,inplace=True)\n",
        "df[\"company\"].fillna(0,inplace=True)\n",
        "df[\"agent\"].fillna(0,inplace=True)\n",
        "df['country'].fillna('Not available', inplace = True)\n",
        "df.info()"
      ],
      "metadata": {
        "id": "wk-9a2fpoLcV"
      },
      "execution_count": null,
      "outputs": []
    },
    {
      "cell_type": "code",
      "source": [
        "df.isnull().sum()"
      ],
      "metadata": {
        "id": "qo7bgl9XzHSw"
      },
      "execution_count": null,
      "outputs": []
    },
    {
      "cell_type": "markdown",
      "source": [
        "From the data above we can see there are no null values present within the dataframe."
      ],
      "metadata": {
        "id": "H2vPZzM8zhFy"
      }
    },
    {
      "cell_type": "markdown",
      "source": [
        "From the above data analysis we find that we have non duplicated count -  87396 ,duplicated - 31994 counts.\n",
        "We would analyse after dropping the duplicates."
      ],
      "metadata": {
        "id": "k-Mq6rHB036R"
      }
    },
    {
      "cell_type": "code",
      "source": [
        "#dropping dulicate values#\n",
        "df.drop_duplicates(inplace = True)"
      ],
      "metadata": {
        "id": "l9X5jMKZrTt6"
      },
      "execution_count": null,
      "outputs": []
    },
    {
      "cell_type": "code",
      "source": [
        "df.duplicated().value_counts()"
      ],
      "metadata": {
        "id": "hslqBLNT2h6l"
      },
      "execution_count": null,
      "outputs": []
    },
    {
      "cell_type": "code",
      "source": [
        "msno.bar(df)"
      ],
      "metadata": {
        "id": "g8-hQxk93iTn"
      },
      "execution_count": null,
      "outputs": []
    },
    {
      "cell_type": "markdown",
      "source": [
        "Now so far we have removed all null and duplicated values from the dataset.\n",
        "Also we have removed missing values we can visualize in graph.our data almost look ready for EDA."
      ],
      "metadata": {
        "id": "swxXPEgH23w9"
      }
    },
    {
      "cell_type": "markdown",
      "source": [
        "### What all manipulations have you done and insights you found?"
      ],
      "metadata": {
        "id": "MSa1f5Uengrz"
      }
    },
    {
      "cell_type": "markdown",
      "source": [
        "We have done data wrangling and drop all duplicate values, removed all null values from the data ,removed missing values and thus we get the resulting shape of the data for analysis as follows."
      ],
      "metadata": {
        "id": "LbyXE7I1olp8"
      }
    },
    {
      "cell_type": "code",
      "source": [
        "#finding the final shape of data for analysis\n",
        "df.shape"
      ],
      "metadata": {
        "id": "0ekDbYop4bbw"
      },
      "execution_count": null,
      "outputs": []
    },
    {
      "cell_type": "markdown",
      "source": [
        "We are now going to investigate the data here to find key insight, summarize data and understand it's dstribution. I will use different graphs, visualization techniques and python codes to do it , using seaborn and matplotlib Library."
      ],
      "metadata": {
        "id": "4T_Z-Vz05nEO"
      }
    },
    {
      "cell_type": "markdown",
      "source": [
        "## ***4. Data Vizualization, Storytelling & Experimenting with charts : Understand the relationships between variables***"
      ],
      "metadata": {
        "id": "GF8Ens_Soomf"
      }
    },
    {
      "cell_type": "markdown",
      "source": [
        "#### Chart - 1 Which type of hotels are most preferred by customers."
      ],
      "metadata": {
        "id": "0wOQAZs5pc--"
      }
    },
    {
      "cell_type": "markdown",
      "source": [
        "Analyzing type of which hotel have most no of bookings."
      ],
      "metadata": {
        "id": "A1Tnz93ycbn8"
      }
    },
    {
      "cell_type": "code",
      "source": [
        "# Chart - 1 visualization code\n",
        "hotel_type =df['hotel'].value_counts().reset_index()\n",
        "(hotel_type)\n",
        "no_of_hotel_bookings=hotel_type.rename(columns={'hotel':'no.of bookings','index':'hotel_type'})\n",
        "no_of_hotel_bookings\n",
        "sns.barplot(x=no_of_hotel_bookings['hotel_type'],y=no_of_hotel_bookings['no.of bookings'])"
      ],
      "metadata": {
        "id": "7v_ESjsspbW7"
      },
      "execution_count": null,
      "outputs": []
    },
    {
      "cell_type": "markdown",
      "source": [
        "##### 1. Why did you pick the specific chart?"
      ],
      "metadata": {
        "id": "K5QZ13OEpz2H"
      }
    },
    {
      "cell_type": "markdown",
      "source": [
        "Bar charts used while showing segments of information.Vertical bar charts are useful to compare different categorical or discrete variables."
      ],
      "metadata": {
        "id": "XESiWehPqBRc"
      }
    },
    {
      "cell_type": "markdown",
      "source": [
        "##### 2. What is/are the insight(s) found from the chart?"
      ],
      "metadata": {
        "id": "lQ7QKXXCp7Bj"
      }
    },
    {
      "cell_type": "markdown",
      "source": [
        "From the above visualization graph we can infer that.\n",
        "\n",
        "1.Most customer booked city hotels rather than resort type hotel.\n",
        "\n",
        "2.There is a high bookings for city type hotels can be indicative of the fact that people move out for stay in city hotels for business meetings , enjoyment,social gatherings ,family functions other recreational purpose.\n",
        "\n",
        "3.resort hotel are less preferred due to location from city,prices, facility and quality they offer might be poor."
      ],
      "metadata": {
        "id": "C_j1G7yiqdRP"
      }
    },
    {
      "cell_type": "markdown",
      "source": [
        "##### 3. Will the gained insights help creating a positive business impact?\n",
        "Are there any insights that lead to negative growth? Justify with specific reason."
      ],
      "metadata": {
        "id": "448CDAPjqfQr"
      }
    },
    {
      "cell_type": "markdown",
      "source": [
        "Looking at the fact that city hotel are preferred over resort hotel,resort hotel can face the growth issues as people will move to resort hotel for social gathering, enjoyment and other family function also resort hotel have high pricing issues.\n",
        "\n",
        "where on other side, city hotel have edge as they can be used for both for business related meetings,gatherings, enjoyment etc.they have low cost packages to attract customers."
      ],
      "metadata": {
        "id": "3cspy4FjqxJW"
      }
    },
    {
      "cell_type": "markdown",
      "source": [
        "#### Chart - 2\n",
        "Monthly analysis of bookings data where customer arrived at hotels."
      ],
      "metadata": {
        "id": "KSlN3yHqYklG"
      }
    },
    {
      "cell_type": "code",
      "source": [
        "# Chart - 2 visualization code\n",
        "df_not_canceled = df[df['is_canceled'] == 0]\n",
        "df['arrival_date_month'].value_counts().reset_index()\n",
        "\n",
        "new_order = ['January', 'February', 'March', 'April', 'May', 'June', 'July', 'August', 'September',\n",
        "             'October', 'November', 'December']\n",
        "sorted_months = df_not_canceled['arrival_date_month'].value_counts().reindex(new_order)\n",
        "Df=sorted_months.reset_index()\n",
        "Df.rename(columns={'index':'months','arrival_date_month':'customer arrived'},inplace=True)"
      ],
      "metadata": {
        "id": "R4YgtaqtYklH"
      },
      "execution_count": null,
      "outputs": []
    },
    {
      "cell_type": "code",
      "source": [
        "sns.barplot(x=Df['months'], y=Df['customer arrived'],width=0.9)\n",
        "sns.set(font_scale=0.6)"
      ],
      "metadata": {
        "id": "MAXPvF8BqPr7"
      },
      "execution_count": null,
      "outputs": []
    },
    {
      "cell_type": "markdown",
      "source": [
        "##### 1. Why did you pick the specific chart?"
      ],
      "metadata": {
        "id": "t6dVpIINYklI"
      }
    },
    {
      "cell_type": "markdown",
      "source": [
        "This graph easily distinguishes different categorical values and easy for understand."
      ],
      "metadata": {
        "id": "5aaW0BYyYklI"
      }
    },
    {
      "cell_type": "markdown",
      "source": [
        "##### 2. What is/are the insight(s) found from the chart?"
      ],
      "metadata": {
        "id": "ijmpgYnKYklI"
      }
    },
    {
      "cell_type": "markdown",
      "source": [
        "From the above chart we see people visit most in the month of August, followed by july,may,October,etc."
      ],
      "metadata": {
        "id": "PSx9atu2YklI"
      }
    },
    {
      "cell_type": "markdown",
      "source": [
        "##### 3. Will the gained insights help creating a positive business impact?\n",
        "Are there any insights that lead to negative growth? Justify with specific reason."
      ],
      "metadata": {
        "id": "-JiQyfWJYklI"
      }
    },
    {
      "cell_type": "markdown",
      "source": [
        "1.\n",
        "August, may, October and july are months where customer tend to move to hotels more as compared to other months, so inorder to improve profits these months are best for increasing the revenue.\n",
        "\n",
        "2.\n",
        "Other months to be analysed and factors affecting the decrease in demand to be minutely studied to improve customer response in other months."
      ],
      "metadata": {
        "id": "BcBbebzrYklV"
      }
    },
    {
      "cell_type": "markdown",
      "source": [
        "#### Chart - 3\n",
        "Pie chart for Cancellation rate of bookings"
      ],
      "metadata": {
        "id": "EM7whBJCYoAo"
      }
    },
    {
      "cell_type": "code",
      "source": [
        "# Chart - 3 visualization code\n",
        "\n",
        "df['is_canceled'].value_counts()"
      ],
      "metadata": {
        "id": "t6GMdE67YoAp"
      },
      "execution_count": null,
      "outputs": []
    },
    {
      "cell_type": "code",
      "source": [
        "\n",
        "sns.set(font_scale=1.5)\n",
        "df['is_canceled'].value_counts().plot.pie(colors = ['orange' , 'yellow'],autopct='%1.2f%%' , figsize = (10,10), fontsize = 20)\n",
        "plt.title('CANCELLED VS NON CANCELLED')"
      ],
      "metadata": {
        "id": "9M4TMOq8f7tY"
      },
      "execution_count": null,
      "outputs": []
    },
    {
      "cell_type": "markdown",
      "source": [
        "Note that 0 here represents bookings that are not cancelled and marked with orange.\n",
        "\n",
        "where as, 1 represents cancelled bookings marked with yellow."
      ],
      "metadata": {
        "id": "Lnf8kX8EhYo6"
      }
    },
    {
      "cell_type": "markdown",
      "source": [
        "##### 1. Why did you pick the specific chart?"
      ],
      "metadata": {
        "id": "fge-S5ZAYoAp"
      }
    },
    {
      "cell_type": "markdown",
      "source": [
        "Pie diagram is used here to show the cancellation vs non cancellation of hotel bookings.Here 360° represents 100.00% and depending upon the share of values the different sectors are formed Here(cancelled bookings vs non cancelled bookings)."
      ],
      "metadata": {
        "id": "5dBItgRVYoAp"
      }
    },
    {
      "cell_type": "markdown",
      "source": [
        "##### 2. What is/are the insight(s) found from the chart?"
      ],
      "metadata": {
        "id": "85gYPyotYoAp"
      }
    },
    {
      "cell_type": "markdown",
      "source": [
        "From the pie chart, it is clear that 72.51% people have not cancelled the bookings and 27.51 %  people have cancelled bookings in past as per the given data."
      ],
      "metadata": {
        "id": "4jstXR6OYoAp"
      }
    },
    {
      "cell_type": "markdown",
      "source": [
        "##### 3. Will the gained insights help creating a positive business impact?\n",
        "Are there any insights that lead to negative growth? Justify with specific reason."
      ],
      "metadata": {
        "id": "RoGjAbkUYoAp"
      }
    },
    {
      "cell_type": "markdown",
      "source": [
        "Almost more than 1/4th of the customer cancelled bookings , to keep interest of customer and hotel industry stringent measures should be taken to reduce the bookings cancellation or there should be certain dues for cancelled bookings."
      ],
      "metadata": {
        "id": "eTFS9pPIsZCZ"
      }
    },
    {
      "cell_type": "markdown",
      "source": [
        "#### Chart - 4\n",
        "Country wise booking customers data."
      ],
      "metadata": {
        "id": "4Of9eVA-YrdM"
      }
    },
    {
      "cell_type": "code",
      "source": [
        "# Chart - 4 visualization code\n",
        "\n",
        "#country wise booking customers data,\n",
        "\n",
        "country_stats=df['country'].value_counts()\n",
        "country_booking_stats=country_stats.head(20)\n",
        "country_booking_stats"
      ],
      "metadata": {
        "id": "irlUoxc8YrdO"
      },
      "execution_count": null,
      "outputs": []
    },
    {
      "cell_type": "code",
      "source": [
        "country_booking_stats.plot(kind='bar')\n",
        "plt.title('country wise distribution of hotel bookings')\n",
        "plt.ylabel('no. of bookings')\n",
        "plt.xlabel('country name')\n",
        "plt.rcParams['figure.figsize']=(10,15)"
      ],
      "metadata": {
        "id": "FbkaBEO4tx83"
      },
      "execution_count": null,
      "outputs": []
    },
    {
      "cell_type": "markdown",
      "source": [
        "##### 1. Why did you pick the specific chart?"
      ],
      "metadata": {
        "id": "iky9q4vBYrdO"
      }
    },
    {
      "cell_type": "markdown",
      "source": [
        "Bar charts used while showing segments of information.Vertical bar charts are useful to compare different categorical or discrete values."
      ],
      "metadata": {
        "id": "aJRCwT6DYrdO"
      }
    },
    {
      "cell_type": "markdown",
      "source": [
        "##### 2. What is/are the insight(s) found from the chart?"
      ],
      "metadata": {
        "id": "F6T5p64dYrdO"
      }
    },
    {
      "cell_type": "markdown",
      "source": [
        "From the data we analyzed that,\n",
        "PRT  -  27453,\n",
        "GBR  -  10433,\n",
        "FRA  -   8837,\n",
        "ESP  -   7252,\n",
        "DEU  -  5387,\n",
        "ITA  -   3066\n",
        "are the top 5 countries in terms of hotel booking indicates people move to those hotel frequently rather than\n",
        "RUS   -   561\n",
        "NOR   -   515\n",
        "ROU   -   458\n",
        "No.s of bookings as they might be more remote from the city place."
      ],
      "metadata": {
        "id": "Xx8WAJvtYrdO"
      }
    },
    {
      "cell_type": "markdown",
      "source": [
        "##### 3. Will the gained insights help creating a positive business impact?\n",
        "Are there any insights that lead to negative growth? Justify with specific reason."
      ],
      "metadata": {
        "id": "y-Ehk30pYrdP"
      }
    },
    {
      "cell_type": "markdown",
      "source": [
        "Factors affecting bookings must be analysed as city hotels are preferred, hence country with good transportation wil have good booking rate rather than remote place hotels. So increasing transportation connectivity can open doors to remote or resort type hotels."
      ],
      "metadata": {
        "id": "jLNxxz7MYrdP"
      }
    },
    {
      "cell_type": "markdown",
      "source": [
        "#### Chart - 5\n",
        "\n",
        "Frequency of days costumer stays in hotel."
      ],
      "metadata": {
        "id": "bamQiAODYuh1"
      }
    },
    {
      "cell_type": "code",
      "source": [
        "# Chart - 5 visualization code\n",
        "\n",
        "df['total stay'] = df['stays_in_weekend_nights'] + df['stays_in_week_nights']\n",
        "\n",
        "plt.figure(figsize = (20,15))\n",
        "plt.title('Distribution of days customers stays in hotel')\n",
        "sns.countplot( x =df['total stay'])"
      ],
      "metadata": {
        "id": "TIJwrbroYuh3"
      },
      "execution_count": null,
      "outputs": []
    },
    {
      "cell_type": "markdown",
      "source": [
        "##### 1. Why did you pick the specific chart?"
      ],
      "metadata": {
        "id": "QHF8YVU7Yuh3"
      }
    },
    {
      "cell_type": "markdown",
      "source": [
        "Count plot are used as alternative to bar charts and clearly indicate the difference in different categorical values/parameters."
      ],
      "metadata": {
        "id": "dcxuIMRPYuh3"
      }
    },
    {
      "cell_type": "markdown",
      "source": [
        "##### 2. What is/are the insight(s) found from the chart?"
      ],
      "metadata": {
        "id": "GwzvFGzlYuh3"
      }
    },
    {
      "cell_type": "markdown",
      "source": [
        " Most customers stay in hotel for 1 to 4, There are hardly some customer who stays for more that 12 days. None stayed for more than 28 days according to past collected data."
      ],
      "metadata": {
        "id": "uyqkiB8YYuh3"
      }
    },
    {
      "cell_type": "markdown",
      "source": [
        "##### 3. Will the gained insights help creating a positive business impact?\n",
        "Are there any insights that lead to negative growth? Justify with specific reason."
      ],
      "metadata": {
        "id": "qYpmQ266Yuh3"
      }
    },
    {
      "cell_type": "markdown",
      "source": [
        "This type of data will help the hotels to prepare themselves for making strategies according to the customer demand and maximizing profits by offering maximum benefits to the customer on hourly rate."
      ],
      "metadata": {
        "id": "_WtzZ_hCYuh4"
      }
    },
    {
      "cell_type": "markdown",
      "source": [
        "#### Chart - 6 Bi-varate EDA analysis."
      ],
      "metadata": {
        "id": "OH-pJp9IphqM"
      }
    },
    {
      "cell_type": "markdown",
      "source": [
        "Which type of hotels are having most booking in a weekend nights?"
      ],
      "metadata": {
        "id": "PGABuWox59OW"
      }
    },
    {
      "cell_type": "code",
      "source": [
        "# Chart - 6 visualization code\n",
        "plt.figure(figsize=(25,5))\n",
        "plt.subplot(1, 2, 1)\n",
        "sns.countplot(x='stays_in_weekend_nights',hue='hotel', data=df)\n",
        "plt.title(\"Number of stays on weekend nights\",fontweight=\"bold\", size=15)"
      ],
      "metadata": {
        "id": "kuRf4wtuphqN"
      },
      "execution_count": null,
      "outputs": []
    },
    {
      "cell_type": "markdown",
      "source": [
        "##### 1. Why did you pick the specific chart?"
      ],
      "metadata": {
        "id": "bbFf2-_FphqN"
      }
    },
    {
      "cell_type": "markdown",
      "source": [
        "\n",
        "The countplot is used to represent the occurrence(counts) of the observation present in the categorical variable.\n",
        "It uses the concept of a bar chart for the visual depiction."
      ],
      "metadata": {
        "id": "loh7H2nzphqN"
      }
    },
    {
      "cell_type": "markdown",
      "source": [
        "##### 2. What is/are the insight(s) found from the chart?"
      ],
      "metadata": {
        "id": "_ouA3fa0phqN"
      }
    },
    {
      "cell_type": "markdown",
      "source": [
        "From the above count plot, we can infer that most people in the city hotel stays for less than 1 days at weekend_nights where as people in resort hotel people stays maximum of 2 days at the weekends."
      ],
      "metadata": {
        "id": "VECbqPI7phqN"
      }
    },
    {
      "cell_type": "markdown",
      "source": [
        "##### 3. Will the gained insights help creating a positive business impact?\n",
        "Are there any insights that lead to negative growth? Justify with specific reason."
      ],
      "metadata": {
        "id": "Seke61FWphqN"
      }
    },
    {
      "cell_type": "markdown",
      "source": [
        "The gained insight will improve the hotel accommodation rate as customer stay back maxmum of 2-3\n",
        "days, new customer are to be found for keeping the assets of the hotel engaged, so hotel manager can plan, set price and plan strategies accordingly"
      ],
      "metadata": {
        "id": "DW4_bGpfphqN"
      }
    },
    {
      "cell_type": "markdown",
      "source": [
        "#### Chart - 7\n",
        "\n",
        "Most preferred distribution channel by customers."
      ],
      "metadata": {
        "id": "PIIx-8_IphqN"
      }
    },
    {
      "cell_type": "code",
      "source": [
        "# Chart - 7 visualization code\n",
        "# Creating the table for most preferred distribution channel.\n",
        "df_distribution = df.groupby([\"distribution_channel\"])[\"hotel\"].count().sort_values(ascending = False).reset_index().rename(columns = {\"distribution_channel\" : \"Distribution Channel\", \"hotel\" : \"Count\"})\n",
        "df_distribution"
      ],
      "metadata": {
        "id": "lqAIGUfyphqO"
      },
      "execution_count": null,
      "outputs": []
    },
    {
      "cell_type": "code",
      "source": [
        "# Plotting the graph of above table in order to drive the insights.\n",
        "plt.title(\"Which distribution channel is mostly preferred\")\n",
        "sns.barplot(x = \"Distribution Channel\", y = 'Count', data = df_distribution)\n",
        "plt.figure(figsize = (10,5))"
      ],
      "metadata": {
        "id": "nHjEx_AAJvTP"
      },
      "execution_count": null,
      "outputs": []
    },
    {
      "cell_type": "markdown",
      "source": [
        "##### 1. Why did you pick the specific chart?"
      ],
      "metadata": {
        "id": "t27r6nlMphqO"
      }
    },
    {
      "cell_type": "markdown",
      "source": [
        "Answer Here."
      ],
      "metadata": {
        "id": "iv6ro40sphqO"
      }
    },
    {
      "cell_type": "markdown",
      "source": [
        "##### 2. What is/are the insight(s) found from the chart?"
      ],
      "metadata": {
        "id": "r2jJGEOYphqO"
      }
    },
    {
      "cell_type": "markdown",
      "source": [
        "Answer Here"
      ],
      "metadata": {
        "id": "Po6ZPi4hphqO"
      }
    },
    {
      "cell_type": "markdown",
      "source": [
        "##### 3. Will the gained insights help creating a positive business impact?\n",
        "Are there any insights that lead to negative growth? Justify with specific reason."
      ],
      "metadata": {
        "id": "b0JNsNcRphqO"
      }
    },
    {
      "cell_type": "markdown",
      "source": [
        "Answer Here"
      ],
      "metadata": {
        "id": "xvSq8iUTphqO"
      }
    },
    {
      "cell_type": "markdown",
      "source": [
        "#### Chart - 8\n",
        "\n",
        "Market segment comparison chart w.r.t Hotel type."
      ],
      "metadata": {
        "id": "BZR9WyysphqO"
      }
    },
    {
      "cell_type": "code",
      "source": [
        "# Chart - 8 visualization code\n",
        "df['total_guests']= df['adults'] + df['children'] + df['babies']\n",
        "df['kids']=df['children']+df['babies']\n",
        "df[df['total_guests'] == 0].shape#Creating the table for most preferred distribution channel.\n",
        "market = pd.pivot_table(df, index =['market_segment', 'hotel'],aggfunc = {'total_guests' : np.sum}).reset_index()\n",
        "market"
      ],
      "metadata": {
        "id": "TdPTWpAVphqO"
      },
      "execution_count": null,
      "outputs": []
    },
    {
      "cell_type": "code",
      "source": [
        "# Plotting the graph of above table in order to drive the insights.\n",
        "plt.title(\"market_segment with respect to hotel\")\n",
        "sns.barplot( x = 'market_segment', y = 'total_guests', hue = 'hotel',data = market)\n",
        "sns.set(font_scale=1)\n",
        "plt.figure(figsize = (10,5))"
      ],
      "metadata": {
        "id": "kQcjFw3WVx_K"
      },
      "execution_count": null,
      "outputs": []
    },
    {
      "cell_type": "markdown",
      "source": [
        "##### 1. Why did you pick the specific chart?"
      ],
      "metadata": {
        "id": "jj7wYXLtphqO"
      }
    },
    {
      "cell_type": "markdown",
      "source": [
        "We have choose bargraph for comparing which distribution channel and the  the market segment preferred by customer"
      ],
      "metadata": {
        "id": "Ob8u6rCTphqO"
      }
    },
    {
      "cell_type": "markdown",
      "source": [
        "##### 2. What is/are the insight(s) found from the chart?"
      ],
      "metadata": {
        "id": "eZrbJ2SmphqO"
      }
    },
    {
      "cell_type": "markdown",
      "source": [
        "From the above graph, we found that online/TA is the most preferred channel also we found that city hotels are preferred than resort hotels along with that sum of both is higher than any other market segment."
      ],
      "metadata": {
        "id": "mZtgC_hjphqO"
      }
    },
    {
      "cell_type": "markdown",
      "source": [
        "##### 3. Will the gained insights help creating a positive business impact?\n",
        "Are there any insights that lead to negative growth? Justify with specific reason."
      ],
      "metadata": {
        "id": "rFu4xreNphqO"
      }
    },
    {
      "cell_type": "markdown",
      "source": [
        "From the above analysis we found that agents  and online bookings should be given priority as most bookings are though agent via online mode and problems with other distribution channels and market segment to be identified and studied for increasing the revenue of hotels."
      ],
      "metadata": {
        "id": "ey_0qi68phqO"
      }
    },
    {
      "cell_type": "markdown",
      "source": [
        "#### Chart - 9\n",
        "Comparison of year wise customers arrivals data."
      ],
      "metadata": {
        "id": "YJ55k-q6phqO"
      }
    },
    {
      "cell_type": "code",
      "source": [
        "# Chart - 9 visualization code\n",
        "#Creating a year wise table of total number of guests.\n",
        "df_yearly = df.groupby([\"arrival_date_year\", \"hotel\"])[\"total_guests\"].sum()\n",
        "df_yearly = df_yearly.reset_index().rename(columns= {\"arrival_date_year\" : \"Year\", \"total_guests\" : \"Guests Arrived\", \"hotel\" : \"Hotel Type\"})\n",
        "df_yearly"
      ],
      "metadata": {
        "id": "B2aS4O1ophqO"
      },
      "execution_count": null,
      "outputs": []
    },
    {
      "cell_type": "code",
      "source": [
        "# Plotting the graph of above table.\n",
        "plt.title(\"Yearwise Guests arrival\")\n",
        "sns.barplot(x = 'Year', y = 'Guests Arrived', data = df_yearly, hue = df_yearly['Hotel Type'])\n",
        "plt.figure(figsize = (20,10))"
      ],
      "metadata": {
        "id": "OeeqUWqKayfv"
      },
      "execution_count": null,
      "outputs": []
    },
    {
      "cell_type": "markdown",
      "source": [
        "##### 1. Why did you pick the specific chart?"
      ],
      "metadata": {
        "id": "gCFgpxoyphqP"
      }
    },
    {
      "cell_type": "markdown",
      "source": [
        "To understand the relationship between which year has maximum booking and in which type of hotels."
      ],
      "metadata": {
        "id": "TVxDimi2phqP"
      }
    },
    {
      "cell_type": "markdown",
      "source": [
        "##### 2. What is/are the insight(s) found from the chart?"
      ],
      "metadata": {
        "id": "OVtJsKN_phqQ"
      }
    },
    {
      "cell_type": "markdown",
      "source": [
        "From above chart, we can conclude that bookings were high in year 2016 than in 2017 and 2015 respectively.\n",
        "\n",
        "Also, city hotels are highly preferred over resort hotels from year 2015 to 2017 the trend remains positive for growth as customer count is increasing."
      ],
      "metadata": {
        "id": "ngGi97qjphqQ"
      }
    },
    {
      "cell_type": "markdown",
      "source": [
        "##### 3. Will the gained insights help creating a positive business impact?\n",
        "Are there any insights that lead to negative growth? Justify with specific reason."
      ],
      "metadata": {
        "id": "lssrdh5qphqQ"
      }
    },
    {
      "cell_type": "markdown",
      "source": [
        "The trend is positive and suspect growth in revenue as customer booking has been increasing from 2015 to 2017 for given time frame."
      ],
      "metadata": {
        "id": "tBpY5ekJphqQ"
      }
    },
    {
      "cell_type": "markdown",
      "source": [
        "#### Chart - 10\n",
        "Bookings cancelled as per ADR."
      ],
      "metadata": {
        "id": "U2RJ9gkRphqQ"
      }
    },
    {
      "cell_type": "code",
      "source": [
        "# Chart - 10 visualization code\n",
        "\n",
        "#bookings cancelled as per ADR\n",
        "cond_A = df[df['adr'] <= 50]\n",
        "A = cond_A['is_canceled'].value_counts()\n",
        "A_cp = A[1]/(A[0] + A[1])*100\n",
        "\n",
        "cond_B = df[(df['adr'] > 50) & (df['adr'] <= 75)]\n",
        "B = cond_B['is_canceled'].value_counts()\n",
        "B_cp = B[1]/(B[0]+B[1])*100\n",
        "\n",
        "cond_C = df[(df['adr'] > 75) & (df['adr'] <= 100)]\n",
        "C = cond_C['is_canceled'].value_counts()\n",
        "C_cp = C[1]/(C[0] + C[1])*100\n",
        "\n",
        "cond_D = df[(df['adr'] > 100) & (df['adr'] <= 150)]\n",
        "D = cond_D['is_canceled'].value_counts()\n",
        "D_cp = D[1]/(D[0]+D[1])*100\n",
        "\n",
        "cond_E = df[(df['adr'] > 150) & (df['adr'] <= 200)]\n",
        "E = cond_E['is_canceled'].value_counts()\n",
        "E_cp = E[1]/(E[0]+ E[1])*100\n",
        "\n",
        "cond_F= df[df['adr'] > 200]\n",
        "F = cond_F['is_canceled'].value_counts()\n",
        "F_cp = F[1]/(F[0] + F[1])*100"
      ],
      "metadata": {
        "id": "GM7a4YP4phqQ"
      },
      "execution_count": null,
      "outputs": []
    },
    {
      "cell_type": "code",
      "source": [
        "canceled_percentage_list = [A_cp, B_cp, C_cp, D_cp, E_cp, F_cp]\n",
        "df_cp_adr = pd.DataFrame(canceled_percentage_list)\n",
        "df_cp_adr.index = ['0-50', '50-75', '75-100', '100-150', '150-200', 'over 200']\n",
        "df_cp_adr.reset_index(inplace = True)\n",
        "df_cp_adr.columns = ['adr_ranges', 'canceled_percentage']\n",
        "df_cp_adr"
      ],
      "metadata": {
        "id": "q35VhIgYhxq9"
      },
      "execution_count": null,
      "outputs": []
    },
    {
      "cell_type": "code",
      "source": [
        "ax = df_cp_adr.plot(x = 'adr_ranges', y = 'canceled_percentage', kind = 'bar', figsize = (12,6), fontsize = 12)\n",
        "ax.set_title('cancellation percentage according to adr ranges', fontsize = 16)\n",
        "ax.set_xlabel('adr ranges', fontsize = 12)\n",
        "ax.set_ylabel('canceled_percentage', fontsize = 12)"
      ],
      "metadata": {
        "id": "Rj84BZjniEOE"
      },
      "execution_count": null,
      "outputs": []
    },
    {
      "cell_type": "markdown",
      "source": [
        "##### 1. Why did you pick the specific chart?"
      ],
      "metadata": {
        "id": "1M8mcRywphqQ"
      }
    },
    {
      "cell_type": "markdown",
      "source": [
        "We use barchart to find the trend of booking cancellation vs ADR"
      ],
      "metadata": {
        "id": "8agQvks0phqQ"
      }
    },
    {
      "cell_type": "markdown",
      "source": [
        "##### 2. What is/are the insight(s) found from the chart?"
      ],
      "metadata": {
        "id": "tgIPom80phqQ"
      }
    },
    {
      "cell_type": "markdown",
      "source": [
        "From chart we find that, as ADR increases the cancellation percentage increases."
      ],
      "metadata": {
        "id": "Qp13pnNzphqQ"
      }
    },
    {
      "cell_type": "markdown",
      "source": [
        "##### 3. Will the gained insights help creating a positive business impact?\n",
        "Are there any insights that lead to negative growth? Justify with specific reason."
      ],
      "metadata": {
        "id": "JMzcOPDDphqR"
      }
    },
    {
      "cell_type": "markdown",
      "source": [
        "Here we can draw inference that increases are prices key to cancellation and is positively related hence low cost hotels are most preferred with quality service by the customers."
      ],
      "metadata": {
        "id": "R4Ka1PC2phqR"
      }
    },
    {
      "cell_type": "markdown",
      "source": [
        "#### Chart - 11\n",
        "\n",
        "visualization for booking cancellation vs deposit type."
      ],
      "metadata": {
        "id": "x-EpHcCOp1ci"
      }
    },
    {
      "cell_type": "code",
      "source": [
        "\n",
        "A = pd.DataFrame(df['deposit_type'].value_counts().reset_index())\n",
        "A.columns = ['deposit_type', 'total_values']\n",
        "A"
      ],
      "metadata": {
        "id": "mAQTIvtqp1cj"
      },
      "execution_count": null,
      "outputs": []
    },
    {
      "cell_type": "code",
      "source": [
        "cond = df[df['is_canceled'] == 0]\n",
        "B = pd.DataFrame(cond['deposit_type'].value_counts().reset_index())\n",
        "B.columns = ['deposit_type', 'not_canceled_values']"
      ],
      "metadata": {
        "id": "bYR1ST2ilBA4"
      },
      "execution_count": null,
      "outputs": []
    },
    {
      "cell_type": "code",
      "source": [
        "cond = df[df['is_canceled'] == 1]\n",
        "C = pd.DataFrame(cond['deposit_type'].value_counts().reset_index())\n",
        "C.columns = ['deposit_type', 'canceled_values']"
      ],
      "metadata": {
        "id": "SHKcnqqelN7t"
      },
      "execution_count": null,
      "outputs": []
    },
    {
      "cell_type": "code",
      "source": [
        "A = A.merge(B, on = 'deposit_type', how = 'inner')"
      ],
      "metadata": {
        "id": "FwGLUURzlpvN"
      },
      "execution_count": null,
      "outputs": []
    },
    {
      "cell_type": "code",
      "source": [
        "A = A.merge(C, on = 'deposit_type', how = 'inner')\n",
        "A"
      ],
      "metadata": {
        "id": "9M5KXw2TlsWt"
      },
      "execution_count": null,
      "outputs": []
    },
    {
      "cell_type": "code",
      "source": [
        "A['canceled_percentage'] = A['canceled_values']/A['total_values']*100\n",
        "A['not_canceled_percentage'] = A['not_canceled_values']/A['total_values']*100\n",
        "A"
      ],
      "metadata": {
        "id": "hppqFogIkxZ-"
      },
      "execution_count": null,
      "outputs": []
    },
    {
      "cell_type": "code",
      "source": [
        "\n",
        "# Chart - 11 visualization code for booking cancellation vs deposit type.\n",
        "\n",
        "ax = A.plot(x = 'deposit_type', y = 'canceled_percentage', kind = 'bar', figsize = (12,6), fontsize = 12)\n",
        "ax.set_title('cancellation percentage according to deposit type', fontsize = 16)\n",
        "ax.set_xlabel('deposit type', fontsize = 12)\n",
        "ax.set_ylabel('canceled_percentage', fontsize = 12)"
      ],
      "metadata": {
        "id": "vzzA-ynymFLh"
      },
      "execution_count": null,
      "outputs": []
    },
    {
      "cell_type": "markdown",
      "source": [
        "##### 1. Why did you pick the specific chart?"
      ],
      "metadata": {
        "id": "X_VqEhTip1ck"
      }
    },
    {
      "cell_type": "markdown",
      "source": [
        "We have use the bar chart to show deposit type vs  booking cancellation."
      ],
      "metadata": {
        "id": "-vsMzt_np1ck"
      }
    },
    {
      "cell_type": "markdown",
      "source": [
        "##### 2. What is/are the insight(s) found from the chart?"
      ],
      "metadata": {
        "id": "8zGJKyg5p1ck"
      }
    },
    {
      "cell_type": "markdown",
      "source": [
        "From the above graph we conclude that most people have cancelled booking from the caterory of non refundable amount where as customers have cancelled least with refundable amounts."
      ],
      "metadata": {
        "id": "ZYdMsrqVp1ck"
      }
    },
    {
      "cell_type": "markdown",
      "source": [
        "##### 3. Will the gained insights help creating a positive business impact?\n",
        "Are there any insights that lead to negative growth? Justify with specific reason."
      ],
      "metadata": {
        "id": "PVzmfK_Ep1ck"
      }
    },
    {
      "cell_type": "markdown",
      "source": [
        "Trend suggests that the booking amount is less in terms of total service,competitive initial booking to be revised ,so that only genuine customers book the hotels and avoid wastage of time and service of hotel management."
      ],
      "metadata": {
        "id": "druuKYZpp1ck"
      }
    },
    {
      "cell_type": "markdown",
      "source": [
        "#### Chart - 12\n",
        "ADR (Average daily rate) and Distribution channels comparsion, w.r.t. year."
      ],
      "metadata": {
        "id": "n3dbpmDWp1ck"
      }
    },
    {
      "cell_type": "code",
      "source": [
        "# Chart - 12 visualization code\n",
        "#ADR (Average daily rate) and Distribution channels comparsion, w.r.t. year.\n",
        "plt.figure(figsize = (20,7))\n",
        "plt.title('ADR VS Distribution w.r.t. Year.')\n",
        "sns.barplot(data = df , x = 'distribution_channel' , y = 'adr' , hue = 'arrival_date_year')"
      ],
      "metadata": {
        "id": "bwevp1tKp1ck"
      },
      "execution_count": null,
      "outputs": []
    },
    {
      "cell_type": "markdown",
      "source": [
        "##### 1. Why did you pick the specific chart?"
      ],
      "metadata": {
        "id": "ylSl6qgtp1ck"
      }
    },
    {
      "cell_type": "markdown",
      "source": [
        "We have plotted compound bar graph for ADR (Average daily rate) and Distribution channels comparsion, w.r.t. year. As multivariate analysis."
      ],
      "metadata": {
        "id": "m2xqNkiQp1ck"
      }
    },
    {
      "cell_type": "markdown",
      "source": [
        "##### 2. What is/are the insight(s) found from the chart?"
      ],
      "metadata": {
        "id": "ZWILFDl5p1ck"
      }
    },
    {
      "cell_type": "markdown",
      "source": [
        "Max adr comes from GDS while min comes from corporate.\n",
        "Also the trend of ADR increases every year in each of the distribution channel expect GDS channel in year 2017."
      ],
      "metadata": {
        "id": "x-lUsV2mp1ck"
      }
    },
    {
      "cell_type": "markdown",
      "source": [
        "##### 3. Will the gained insights help creating a positive business impact?\n",
        "Are there any insights that lead to negative growth? Justify with specific reason."
      ],
      "metadata": {
        "id": "M7G43BXep1ck"
      }
    },
    {
      "cell_type": "markdown",
      "source": [
        "ADR increases with GDS customers so target ing those customers type will lead to increase in revenue but trend has decreased in year 2017.overall trend is positive."
      ],
      "metadata": {
        "id": "5wwDJXsLp1cl"
      }
    },
    {
      "cell_type": "markdown",
      "source": [
        "#### Chart - 13\n",
        "\n",
        "Line graph for Monthly ADR w.r.t Hotel type."
      ],
      "metadata": {
        "id": "Ag9LCva-p1cl"
      }
    },
    {
      "cell_type": "code",
      "source": [
        "# Chart - 13 visualization code\n",
        "\n",
        "bookings_by_months_df=df.groupby(['arrival_date_month','hotel'])['adr'].mean().reset_index()\n",
        "#create month list\n",
        "months = ['January', 'February', 'March', 'April', 'May', 'June', 'July', 'August', 'September', 'October', 'November', 'December']\n",
        "# it will take the order of the month list in the df along with values\n",
        "bookings_by_months_df['arrival_date_month']=pd.Categorical(bookings_by_months_df['arrival_date_month'],categories=months,ordered=True)\n",
        "#sortting\n",
        "bookings_by_months_df=bookings_by_months_df.sort_values('arrival_date_month')\n",
        "bookings_by_months_df\n",
        "\n",
        "plt.figure(figsize=(20,8))\n",
        "sns.lineplot(x=bookings_by_months_df['arrival_date_month'],y=bookings_by_months_df['adr'],hue =bookings_by_months_df['hotel'])\n",
        "\n",
        "# set lables\n",
        "plt.title('ADR across each month')\n",
        "plt.xlabel('Month')\n",
        "plt.ylabel('ADR')"
      ],
      "metadata": {
        "id": "EUfxeq9-p1cl"
      },
      "execution_count": null,
      "outputs": []
    },
    {
      "cell_type": "markdown",
      "source": [
        "##### 1. Why did you pick the specific chart?"
      ],
      "metadata": {
        "id": "E6MkPsBcp1cl"
      }
    },
    {
      "cell_type": "markdown",
      "source": [
        "Line chart of month wise ADR for city hotel and resort hotels are simultaneously plotted to analyse the ADR trend monthly."
      ],
      "metadata": {
        "id": "V22bRsFWp1cl"
      }
    },
    {
      "cell_type": "markdown",
      "source": [
        "##### 2. What is/are the insight(s) found from the chart?"
      ],
      "metadata": {
        "id": "2cELzS2fp1cl"
      }
    },
    {
      "cell_type": "markdown",
      "source": [
        "From the line chart we clearly found that ADR is highest for resort hotels in month of August and ADR is least in month of January.\n",
        "\n",
        "Similarly, ADR is highest for City hotels in month of May followed by August and least ADR in the month of January."
      ],
      "metadata": {
        "id": "ozQPc2_Ip1cl"
      }
    },
    {
      "cell_type": "markdown",
      "source": [
        "##### 3. Will the gained insights help creating a positive business impact?\n",
        "Are there any insights that lead to negative growth? Justify with specific reason."
      ],
      "metadata": {
        "id": "3MPXvC8up1cl"
      }
    },
    {
      "cell_type": "markdown",
      "source": [
        "As ADR increases the pricing are competitive and demand is high, so hotel must try to increase the average ADR thought out the year to increase the revenue.if the ADR falls the trend will change to negative causing loss to hotel industry and there assets they own."
      ],
      "metadata": {
        "id": "GL8l1tdLp1cl"
      }
    },
    {
      "cell_type": "markdown",
      "source": [
        "#### Chart - 14 - Correlation Heatmap"
      ],
      "metadata": {
        "id": "NC_X3p0fY2L0"
      }
    },
    {
      "cell_type": "code",
      "source": [
        "# Correlation Heatmap visualization\n",
        "plt.figure(figsize =(20,20))\n",
        "plt.title('Corelation between different parameters')\n",
        "sns.heatmap(df.corr() , annot = True)"
      ],
      "metadata": {
        "id": "xyC9zolEZNRQ"
      },
      "execution_count": null,
      "outputs": []
    },
    {
      "cell_type": "markdown",
      "source": [
        "##### 1. Why did you pick the specific chart?"
      ],
      "metadata": {
        "id": "UV0SzAkaZNRQ"
      }
    },
    {
      "cell_type": "markdown",
      "source": [
        "Correlation heatmaps are a type of plot that visualize the strength of relationships between numerical variables. Correlation plots are used to understand which variables are related to each other and the strength of this relationship.\n",
        "Thus we have used this plot to find the relationship."
      ],
      "metadata": {
        "id": "DVPuT8LYZNRQ"
      }
    },
    {
      "cell_type": "markdown",
      "source": [
        "##### 2. What is/are the insight(s) found from the chart?"
      ],
      "metadata": {
        "id": "YPEH6qLeZNRQ"
      }
    },
    {
      "cell_type": "markdown",
      "source": [
        "\n",
        "Observation:\n",
        "\n",
        "1. Most column have low-corelation.\n",
        "\n",
        "2. Blocks with vs are negatively corelated, for eg: previous booking cancelled and children , adults, adr, etc. It will mean that if one of them will increase, other will decrease.\n",
        "3.Blocks with +ve shows higher co-relation. Means both will increase and decrease together.\n",
        "4.For eg: children, adults & adr are positvely corelated.\n",
        "5.Previous booking not cancelled and repeated guests are corelated.\n",
        "6.Lead time and stay length also have corelation.\n",
        "7.Note that all above mentioned columns have only some co-relation.\n",
        "8.Trend of monthly bookings."
      ],
      "metadata": {
        "id": "bfSqtnDqZNRR"
      }
    },
    {
      "cell_type": "markdown",
      "source": [
        "#### Chart - 15 - Pair Plot"
      ],
      "metadata": {
        "id": "q29F0dvdveiT"
      }
    },
    {
      "cell_type": "code",
      "source": [
        "# Pair Plot visualization code"
      ],
      "metadata": {
        "id": "sNonZFomyZU8"
      },
      "execution_count": null,
      "outputs": []
    },
    {
      "cell_type": "markdown",
      "source": [
        "##### 1. Why did you pick the specific chart?"
      ],
      "metadata": {
        "id": "EXh0U9oCveiU"
      }
    },
    {
      "cell_type": "markdown",
      "source": [
        "Answer Here."
      ],
      "metadata": {
        "id": "eMmPjTByveiU"
      }
    },
    {
      "cell_type": "markdown",
      "source": [
        "##### 2. What is/are the insight(s) found from the chart?"
      ],
      "metadata": {
        "id": "22aHeOlLveiV"
      }
    },
    {
      "cell_type": "markdown",
      "source": [
        "Answer Here"
      ],
      "metadata": {
        "id": "uPQ8RGwHveiV"
      }
    },
    {
      "cell_type": "markdown",
      "source": [
        "## **5. Solution to Business Objective**"
      ],
      "metadata": {
        "id": "JcMwzZxoAimU"
      }
    },
    {
      "cell_type": "markdown",
      "source": [
        "#### What do you suggest the client to achieve Business Objective ?\n",
        "Explain Briefly."
      ],
      "metadata": {
        "id": "8G2x9gOozGDZ"
      }
    },
    {
      "cell_type": "markdown",
      "source": [
        "Answer Here."
      ],
      "metadata": {
        "id": "pASKb0qOza21"
      }
    },
    {
      "cell_type": "markdown",
      "source": [
        "# **Conclusion**"
      ],
      "metadata": {
        "id": "gCX9965dhzqZ"
      }
    },
    {
      "cell_type": "markdown",
      "source": [
        "\n",
        "Analysis summary\n",
        "1. Maximize guests come to city hotel.Thus, the resort hotel need a little more work for marketing and attracting guests.\n",
        "2. 27.5% of the guests cancel the booking.\n",
        "3. GDS gives highest ADR compared to other distribution channel, thus points towards higher revenue.\n",
        "4. Most guests stay at hotel for less than 7 days.\n",
        "5. City hotel have higher adr, thus generating more revenue.\n",
        "6. Room type A is most preferred by guests. Thus, Room type A must be cleaned and repaired more frequently. Spare light bulbs, mosquito repellent, etc. should also be kept available acording room type A 's needs.\n",
        "7. ADR increase with increase in booking cancellation..\n",
        "8. TA/TO has highest cancellation rate. Thus the company needs to look into reasons of it and try to provide additional discounts to attract cancelled guests.\n",
        "9.we have higher bookings for 2017 than 2015 and 2016,indicates positive growth of hotel industry in the region.\n",
        "10. Most column have low correlation.\n",
        "11. Blocks with  (-) are negatively correlated, for eg: previous booking cancelled and children , adults, adr, etc. It will mean that if one of them will increase, other will decrease.\n",
        "12. Blocks with +ve shows higher co-relation. Means both will increase and decrease together. For eg: children, adults & adr are positively correlated. Previous booking not cancelled and repeated guests are correlated. Lead time and stay length also have correlation.\n",
        "13. Max. Booking happens July to Mid-August."
      ],
      "metadata": {
        "id": "Fjb1IsQkh3yE"
      }
    },
    {
      "cell_type": "markdown",
      "source": [
        "### ***Hurrah! You have successfully completed your EDA Capstone Project !!!***"
      ],
      "metadata": {
        "id": "gIfDvo9L0UH2"
      }
    }
  ]
}